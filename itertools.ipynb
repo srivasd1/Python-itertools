{
 "cells": [
  {
   "cell_type": "code",
   "execution_count": 16,
   "id": "dd10da00",
   "metadata": {},
   "outputs": [
    {
     "name": "stdout",
     "output_type": "stream",
     "text": [
      "using product of itertools 1 10 11\n",
      "From nested loop  4 40 44\n"
     ]
    }
   ],
   "source": [
    "#itertools.product() \n",
    "from itertools import product\n",
    "list1=[1,2 ,3,4]\n",
    "list2=[10,20,30,40]\n",
    "list3=[11,22,33,44]\n",
    "for i,j,k in product(list1,list2,list3):\n",
    "   # print(i,j,k)\n",
    "    if i + j + k == 22:\n",
    "      print(\"using product of itertools\",i,j,k)\n",
    "#product can be used instead \n",
    "for a in list1:\n",
    "    for b in list2:\n",
    "        for c in list3:\n",
    "            if(a+b+c == 88):\n",
    "             print('From nested loop ', a,b,c)"
   ]
  },
  {
   "cell_type": "code",
   "execution_count": 22,
   "id": "b0f034b6",
   "metadata": {},
   "outputs": [
    {
     "name": "stdout",
     "output_type": "stream",
     "text": [
      "['Gandhi', 'Patel']\n",
      "['Gandhi', 'Nehru']\n"
     ]
    }
   ],
   "source": [
    "# itertools.compress() use to filter items from list using no loops.\n",
    "# it returns iterable based on the values of a corresponding boolean mask.\n",
    "import itertools \n",
    "leaders =['Gandhi', 'Nehru', 'Bose', 'Patel']\n",
    "selector1=[1,0,0,1]\n",
    "selector2=[1,1,0,0]\n",
    "print(list(itertools.compress(leaders,selector1)))\n",
    "print(list(itertools.compress(leaders,selector2)))"
   ]
  },
  {
   "cell_type": "code",
   "execution_count": 29,
   "id": "e8a649c3",
   "metadata": {},
   "outputs": [
    {
     "name": "stdout",
     "output_type": "stream",
     "text": [
      "[(0, [0, 0, 0, 0, 0]), (1, [1, 1]), (2, [2]), (3, [3, 3]), (1, [1, 1, 1])]\n",
      "0 <itertools._grouper object at 0x7fe640ea5e20>\n",
      "1 <itertools._grouper object at 0x7fe641155370>\n",
      "2 <itertools._grouper object at 0x7fe6411158b0>\n",
      "3 <itertools._grouper object at 0x7fe640fb6a30>\n",
      "1 <itertools._grouper object at 0x7fe64118aaf0>\n"
     ]
    }
   ],
   "source": [
    "#itertools.group() calculates the keys for each element present in iterable. \n",
    "#It returns key and iterable of grouped items. \n",
    "#You can group consecutive elements of the same value in an iterable object, such as a list, with itertools.groupby().\n",
    "import itertools\n",
    "l = [0, 0, 0, 0,0,1, 1, 2, 3,3, 1,1,1]\n",
    "print([(k, list(g)) for k, g in itertools.groupby(l)])\n",
    "\"\"\n",
    "# [(0, [0, 0, 0]), (1, [1, 1]), (2, [2]), (0, [0, 0])]\n"
   ]
  },
  {
   "cell_type": "code",
   "execution_count": 48,
   "id": "c7ff0730",
   "metadata": {},
   "outputs": [
    {
     "name": "stdout",
     "output_type": "stream",
     "text": [
      "[('W', 'O'), ('W', 'R'), ('W', 'L'), ('W', 'D'), ('O', 'R'), ('O', 'L'), ('O', 'D'), ('R', 'L'), ('R', 'D'), ('L', 'D')]\n",
      "['W O', 'W R', 'W L', 'W D', 'O R', 'O L', 'O D', 'R L', 'R D', 'L D']\n"
     ]
    }
   ],
   "source": [
    "#Itertools.combinations() Syntax: combinations(iterator, r)\n",
    "\n",
    "# Combinations Of string \"WORLD\" OF SIZE 3.\n",
    "#You can group consecutive elements of the same value in an iterable object, such as a list, with itertools.groupby().\n",
    "import itertools\n",
    "letters=\"WORLD\"\n",
    "comb=itertools.combinations(letters,2)\n",
    "print(list(comb))\n",
    "y=[\" \".join(i) for i in itertools.combinations(letters,2)]\n",
    "print(y)"
   ]
  },
  {
   "cell_type": "code",
   "execution_count": 45,
   "id": "00ce6c5d",
   "metadata": {},
   "outputs": [
    {
     "name": "stdout",
     "output_type": "stream",
     "text": [
      "[]\n"
     ]
    }
   ],
   "source": []
  },
  {
   "cell_type": "code",
   "execution_count": null,
   "id": "5b8ea92d",
   "metadata": {},
   "outputs": [],
   "source": []
  }
 ],
 "metadata": {
  "kernelspec": {
   "display_name": "Python 3 (ipykernel)",
   "language": "python",
   "name": "python3"
  },
  "language_info": {
   "codemirror_mode": {
    "name": "ipython",
    "version": 3
   },
   "file_extension": ".py",
   "mimetype": "text/x-python",
   "name": "python",
   "nbconvert_exporter": "python",
   "pygments_lexer": "ipython3",
   "version": "3.9.12"
  }
 },
 "nbformat": 4,
 "nbformat_minor": 5
}
